{
 "cells": [
  {
   "cell_type": "code",
   "execution_count": 1,
   "id": "27f20271",
   "metadata": {},
   "outputs": [
    {
     "name": "stderr",
     "output_type": "stream",
     "text": [
      "2023-11-01 20:51:53.116888: I tensorflow/core/platform/cpu_feature_guard.cc:182] This TensorFlow binary is optimized to use available CPU instructions in performance-critical operations.\n",
      "To enable the following instructions: SSE4.1 SSE4.2 AVX AVX2 FMA, in other operations, rebuild TensorFlow with the appropriate compiler flags.\n"
     ]
    }
   ],
   "source": [
    "import numpy as np\n",
    "import tensorflow as tf\n",
    "from tensorflow.keras.models import Model\n",
    "from tensorflow.keras.layers import Input, Conv2D, MaxPooling2D, Flatten, LSTM, Dense, Reshape, RepeatVector, TimeDistributed\n"
   ]
  },
  {
   "cell_type": "code",
   "execution_count": null,
   "id": "e94f6569",
   "metadata": {},
   "outputs": [],
   "source": [
    "# read in input data- TIR and historical core data\n"
   ]
  },
  {
   "cell_type": "code",
   "execution_count": null,
   "id": "180d67c6",
   "metadata": {},
   "outputs": [],
   "source": [
    "# sort target data- core at t0"
   ]
  },
  {
   "cell_type": "code",
   "execution_count": null,
   "id": "1f4f279f",
   "metadata": {},
   "outputs": [],
   "source": [
    "# Define hyperparameters\n",
    "image_shape = (64, 64, 3)  # Shape of input images\n",
    "sequence_length = 10  # Length of input sequences\n",
    "num_classes = 10  # Number of classes for classification\n",
    "batch_size = 32\n",
    "epochs = 10\n"
   ]
  },
  {
   "cell_type": "code",
   "execution_count": null,
   "id": "1f14ae46",
   "metadata": {},
   "outputs": [],
   "source": [
    "# Define the encoder-decoder architecture\n",
    "input_sequence = Input(shape=(sequence_length, *image_shape))"
   ]
  },
  {
   "cell_type": "code",
   "execution_count": null,
   "id": "1fbce1de",
   "metadata": {},
   "outputs": [],
   "source": [
    "# Encoder\n",
    "encoder = Sequential()\n",
    "encoder.add(Conv2D(32, (3, 3), activation='relu', input_shape=input_shape))\n",
    "#encoder.add(Conv2D(32, (3, 3), activation='relu', input_shape=image_shape))\n",
    "encoder.add(MaxPooling2D((2, 2))\n",
    "encoder.add(Conv2D(64, (3, 3), activation='relu'))\n",
    "encoder.add(MaxPooling2D((2, 2))\n",
    "encoder.add(Flatten())\n"
   ]
  },
  {
   "cell_type": "code",
   "execution_count": null,
   "id": "0ec356bb",
   "metadata": {},
   "outputs": [],
   "source": [
    "# Apply the encoder to each time step of the sequence\n",
    "encoded_sequence = TimeDistributed(encoder)(input_sequence)\n",
    "\n"
   ]
  },
  {
   "cell_type": "code",
   "execution_count": null,
   "id": "e8420f9b",
   "metadata": {},
   "outputs": [],
   "source": [
    "# LSTM for sequence modeling\n",
    "lstm_layer = LSTM(128, return_sequences=True)(encoded_sequence)\n"
   ]
  },
  {
   "cell_type": "code",
   "execution_count": null,
   "id": "69dc091e",
   "metadata": {},
   "outputs": [],
   "source": [
    "# Decoder\n",
    "decoder = Sequential()\n",
    "decoder.add(LSTM(128, return_sequences=True, input_shape=(sequence_length, 128)))\n"
   ]
  },
  {
   "cell_type": "code",
   "execution_count": null,
   "id": "771f14be",
   "metadata": {},
   "outputs": [],
   "source": [
    "# Apply the decoder to the LSTM output\n",
    "decoded_sequence = decoder(lstm_layer)\n",
    "\n"
   ]
  },
  {
   "cell_type": "code",
   "execution_count": null,
   "id": "340344ea",
   "metadata": {},
   "outputs": [],
   "source": [
    "# Softmax output layer for classification\n",
    "output_sequence = TimeDistributed(Dense(num_classes, activation='softmax'))(decoded_sequence)\n",
    "\n"
   ]
  },
  {
   "cell_type": "code",
   "execution_count": null,
   "id": "4a4fde6f",
   "metadata": {},
   "outputs": [],
   "source": [
    "# Create the model\n",
    "model = Model(inputs=input_sequence, outputs=output_sequence)\n",
    "\n"
   ]
  },
  {
   "cell_type": "code",
   "execution_count": null,
   "id": "2a54009f",
   "metadata": {},
   "outputs": [],
   "source": [
    "# Compile the model\n",
    "model.compile(optimizer='adam', loss='categorical_crossentropy', metrics=['accuracy'])\n"
   ]
  },
  {
   "cell_type": "code",
   "execution_count": null,
   "id": "cd318aa0",
   "metadata": {},
   "outputs": [],
   "source": [
    "# Generate some example data (replace with your dataset)\n",
    "X_images = np.random.rand(100, sequence_length, *image_shape)\n",
    "y_labels = np.random.randint(num_classes, size=(100, sequence_length))\n"
   ]
  },
  {
   "cell_type": "code",
   "execution_count": null,
   "id": "753dcf00",
   "metadata": {},
   "outputs": [],
   "source": [
    "# Convert labels to one-hot encoded format\n",
    "y_one_hot = to_categorical(y_labels, num_classes=num_classes)\n"
   ]
  },
  {
   "cell_type": "code",
   "execution_count": null,
   "id": "83477cf8",
   "metadata": {},
   "outputs": [],
   "source": [
    "# Train the model\n",
    "model.fit(X_images, y_one_hot, batch_size=batch_size, epochs=epochs)\n"
   ]
  },
  {
   "cell_type": "code",
   "execution_count": null,
   "id": "effa88b7",
   "metadata": {},
   "outputs": [],
   "source": [
    "# Make predictions\n",
    "# Replace X_test with your test data\n",
    "X_test = np.random.rand(10, sequence_length, *image_shape)\n",
    "predictions = model.predict(X_test)\n",
    "\n"
   ]
  },
  {
   "cell_type": "code",
   "execution_count": null,
   "id": "816f685c",
   "metadata": {},
   "outputs": [],
   "source": [
    "# Print the predicted classes for each time step\n",
    "predicted_classes = np.argmax(predictions, axis=2)\n",
    "print(\"Predicted classes for each time step:\", predicted_classes)\n"
   ]
  }
 ],
 "metadata": {
  "kernelspec": {
   "display_name": "Python (base)",
   "language": "python",
   "name": "base"
  },
  "language_info": {
   "codemirror_mode": {
    "name": "ipython",
    "version": 3
   },
   "file_extension": ".py",
   "mimetype": "text/x-python",
   "name": "python",
   "nbconvert_exporter": "python",
   "pygments_lexer": "ipython3",
   "version": "3.10.12"
  }
 },
 "nbformat": 4,
 "nbformat_minor": 5
}
